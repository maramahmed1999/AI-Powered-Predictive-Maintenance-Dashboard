{
 "cells": [
  {
   "cell_type": "markdown",
   "metadata": {},
   "source": [
    "# **1) Imports & Settings**"
   ]
  },
  {
   "cell_type": "code",
   "execution_count": null,
   "metadata": {
    "_cell_guid": "b1076dfc-b9ad-4769-8c92-a6c4dae69d19",
    "_uuid": "8f2839f25d086af736a60e9eeb907d3b93b6e0e5",
    "execution": {
     "iopub.execute_input": "2025-09-24T20:33:15.373804Z",
     "iopub.status.busy": "2025-09-24T20:33:15.373510Z",
     "iopub.status.idle": "2025-09-24T20:33:35.033093Z",
     "shell.execute_reply": "2025-09-24T20:33:35.032172Z",
     "shell.execute_reply.started": "2025-09-24T20:33:15.373781Z"
    },
    "trusted": true
   },
   "outputs": [
    {
     "name": "stderr",
     "output_type": "stream",
     "text": [
      "2025-09-24 20:33:20.759341: E external/local_xla/xla/stream_executor/cuda/cuda_fft.cc:477] Unable to register cuFFT factory: Attempting to register factory for plugin cuFFT when one has already been registered\n",
      "WARNING: All log messages before absl::InitializeLog() is called are written to STDERR\n",
      "E0000 00:00:1758746000.997609      36 cuda_dnn.cc:8310] Unable to register cuDNN factory: Attempting to register factory for plugin cuDNN when one has already been registered\n",
      "E0000 00:00:1758746001.063081      36 cuda_blas.cc:1418] Unable to register cuBLAS factory: Attempting to register factory for plugin cuBLAS when one has already been registered\n"
     ]
    }
   ],
   "source": [
    "import random\n",
    "import warnings\n",
    "\n",
    "import numpy as np\n",
    "import pandas as pd\n",
    "\n",
    "np.random.seed(34)\n",
    "random.seed(34)\n",
    "warnings.filterwarnings('ignore')"
   ]
  },
  {
   "cell_type": "markdown",
   "metadata": {},
   "source": [
    "# **2) Data loading**"
   ]
  },
  {
   "cell_type": "code",
   "execution_count": 2,
   "metadata": {
    "execution": {
     "iopub.execute_input": "2025-09-24T20:33:35.035370Z",
     "iopub.status.busy": "2025-09-24T20:33:35.034660Z",
     "iopub.status.idle": "2025-09-24T20:33:35.307666Z",
     "shell.execute_reply": "2025-09-24T20:33:35.306696Z",
     "shell.execute_reply.started": "2025-09-24T20:33:35.035343Z"
    },
    "trusted": true
   },
   "outputs": [
    {
     "name": "stdout",
     "output_type": "stream",
     "text": [
      "Loading data...\n",
      "train shape: (20631, 26), test shape: (13096, 26), test_RUL shape: (100, 1)\n"
     ]
    }
   ],
   "source": [
    "# column names\n",
    "index_names = ['engine', 'cycle']\n",
    "setting_names = ['setting_1', 'setting_2', 'setting_3']\n",
    "sensor_names = [\n",
    "\"(Fan inlet temperature) (◦R)\",\n",
    "\"(LPC outlet temperature) (◦R)\",\n",
    "\"(HPC outlet temperature) (◦R)\",\n",
    "\"(LPT outlet temperature) (◦R)\",\n",
    "\"(Fan inlet Pressure) (psia)\",\n",
    "\"(bypass-duct pressure) (psia)\",\n",
    "\"(HPC outlet pressure) (psia)\",\n",
    "\"(Physical fan speed) (rpm)\",\n",
    "\"(Physical core speed) (rpm)\",\n",
    "\"(Engine pressure ratio(P50/P2)\",\n",
    "\"(HPC outlet Static pressure) (psia)\",\n",
    "\"(Ratio of fuel flow to Ps30) (pps/psia)\",\n",
    "\"(Corrected fan speed) (rpm)\",\n",
    "\"(Corrected core speed) (rpm)\",\n",
    "\"(Bypass Ratio) \",\n",
    "\"(Burner fuel-air ratio)\",\n",
    "\"(Bleed Enthalpy)\",\n",
    "\"(Required fan speed)\",\n",
    "\"(Required fan conversion speed)\",\n",
    "\"(High-pressure turbines Cool air flow)\",\n",
    "\"(Low-pressure turbines Cool air flow)\"\n",
    "]\n",
    "col_names = index_names + setting_names + sensor_names\n",
    "\n",
    "\n",
    "# adjust these paths as necessary\n",
    "TRAIN_PATH = '/kaggle/input/nasa-cmaps/CMaps/train_FD001.txt'\n",
    "TEST_PATH = '/kaggle/input/nasa-cmaps/CMaps/test_FD001.txt'\n",
    "RUL_PATH = '/kaggle/input/nasa-cmaps/CMaps/RUL_FD001.txt'\n",
    "\n",
    "\n",
    "# load\n",
    "print(\"Loading data...\")\n",
    "df_train = pd.read_csv(TRAIN_PATH, sep='\\s+', header=None, names=col_names)\n",
    "df_test = pd.read_csv(TEST_PATH, sep='\\s+', header=None, names=col_names)\n",
    "df_test_RUL = pd.read_csv(RUL_PATH, sep='\\s+', header=None, names=['RUL'])\n",
    "\n",
    "\n",
    "print(f\"train shape: {df_train.shape}, test shape: {df_test.shape}, test_RUL shape: {df_test_RUL.shape}\")"
   ]
  },
  {
   "cell_type": "markdown",
   "metadata": {},
   "source": [
    "# **3) Preprocessing & RUL computation**"
   ]
  },
  {
   "cell_type": "code",
   "execution_count": 3,
   "metadata": {
    "execution": {
     "iopub.execute_input": "2025-09-24T20:34:35.968050Z",
     "iopub.status.busy": "2025-09-24T20:34:35.967329Z",
     "iopub.status.idle": "2025-09-24T20:34:35.974767Z",
     "shell.execute_reply": "2025-09-24T20:34:35.973766Z",
     "shell.execute_reply.started": "2025-09-24T20:34:35.968008Z"
    },
    "trusted": true
   },
   "outputs": [],
   "source": [
    "def remove_constant_columns(df_train, df_test):\n",
    "    constant_cols = [col for col in df_train.columns if df_train[col].nunique() == 1]\n",
    "    print(\"Columns with constant values:\", constant_cols)\n",
    "    df_train = df_train.drop(constant_cols, axis=1, errors='ignore')\n",
    "    df_test = df_test.drop(constant_cols, axis=1, errors='ignore')\n",
    "    return df_train, df_test\n",
    "\n",
    "\n",
    "def compute_rul(df):\n",
    "    # maximum cycle per engine -> life\n",
    "    df_life = df.groupby('engine').agg({'cycle': 'max'}).rename(columns={'cycle': 'life'})\n",
    "    df = df.merge(df_life, how='left', on='engine')\n",
    "    df['RUL'] = df['life'] - df['cycle']\n",
    "    df.drop(columns=['life'], inplace=True)\n",
    "    # clip RUL as in original\n",
    "    df['RUL'] = df['RUL'].clip(upper=125)\n",
    "    return df"
   ]
  },
  {
   "cell_type": "code",
   "execution_count": 4,
   "metadata": {
    "execution": {
     "iopub.execute_input": "2025-09-24T20:34:45.263624Z",
     "iopub.status.busy": "2025-09-24T20:34:45.263340Z",
     "iopub.status.idle": "2025-09-24T20:34:45.317154Z",
     "shell.execute_reply": "2025-09-24T20:34:45.316249Z",
     "shell.execute_reply.started": "2025-09-24T20:34:45.263604Z"
    },
    "trusted": true
   },
   "outputs": [
    {
     "name": "stdout",
     "output_type": "stream",
     "text": [
      "Columns with constant values: ['setting_3', '(Fan inlet temperature) (◦R)', '(Fan inlet Pressure) (psia)', '(Engine pressure ratio(P50/P2)', '(Burner fuel-air ratio)', '(Required fan speed)', '(Required fan conversion speed)']\n"
     ]
    }
   ],
   "source": [
    "# remove constants\n",
    "df_train, df_test = remove_constant_columns(df_train.copy(), df_test.copy())\n",
    "# compute RUL in train\n",
    "df_train = compute_rul(df_train)\n",
    "\n",
    "# prepare test last cycle per engine (the ground truth RUL is provided separately)\n",
    "df_test_cycle = df_test.groupby('engine').agg({'cycle': 'max'}).rename(columns={'cycle': 'life'})\n",
    "df_test_max = df_test.merge(df_test_cycle, how='left', on='engine')\n",
    "df_test_max = df_test_max[df_test_max['cycle'] == df_test_max['life']].drop(columns=['life'])"
   ]
  },
  {
   "cell_type": "code",
   "execution_count": 5,
   "metadata": {
    "execution": {
     "iopub.execute_input": "2025-09-24T20:34:50.284696Z",
     "iopub.status.busy": "2025-09-24T20:34:50.284380Z",
     "iopub.status.idle": "2025-09-24T20:34:50.310375Z",
     "shell.execute_reply": "2025-09-24T20:34:50.309234Z",
     "shell.execute_reply.started": "2025-09-24T20:34:50.284672Z"
    },
    "trusted": true
   },
   "outputs": [
    {
     "name": "stdout",
     "output_type": "stream",
     "text": [
      "\n",
      "Train head:\n",
      "   engine  cycle  setting_1  setting_2  (LPC outlet temperature) (◦R)  \\\n",
      "0       1      1    -0.0007    -0.0004                         641.82   \n",
      "1       1      2     0.0019    -0.0003                         642.15   \n",
      "2       1      3    -0.0043     0.0003                         642.35   \n",
      "3       1      4     0.0007     0.0000                         642.35   \n",
      "4       1      5    -0.0019    -0.0002                         642.37   \n",
      "\n",
      "   (HPC outlet temperature) (◦R)  (LPT outlet temperature) (◦R)  \\\n",
      "0                        1589.70                        1400.60   \n",
      "1                        1591.82                        1403.14   \n",
      "2                        1587.99                        1404.20   \n",
      "3                        1582.79                        1401.87   \n",
      "4                        1582.85                        1406.22   \n",
      "\n",
      "   (bypass-duct pressure) (psia)  (HPC outlet pressure) (psia)  \\\n",
      "0                          21.61                        554.36   \n",
      "1                          21.61                        553.75   \n",
      "2                          21.61                        554.26   \n",
      "3                          21.61                        554.45   \n",
      "4                          21.61                        554.00   \n",
      "\n",
      "   (Physical fan speed) (rpm)  (Physical core speed) (rpm)  \\\n",
      "0                     2388.06                      9046.19   \n",
      "1                     2388.04                      9044.07   \n",
      "2                     2388.08                      9052.94   \n",
      "3                     2388.11                      9049.48   \n",
      "4                     2388.06                      9055.15   \n",
      "\n",
      "   (HPC outlet Static pressure) (psia)  \\\n",
      "0                                47.47   \n",
      "1                                47.49   \n",
      "2                                47.27   \n",
      "3                                47.13   \n",
      "4                                47.28   \n",
      "\n",
      "   (Ratio of fuel flow to Ps30) (pps/psia)  (Corrected fan speed) (rpm)  \\\n",
      "0                                   521.66                      2388.02   \n",
      "1                                   522.28                      2388.07   \n",
      "2                                   522.42                      2388.03   \n",
      "3                                   522.86                      2388.08   \n",
      "4                                   522.19                      2388.04   \n",
      "\n",
      "   (Corrected core speed) (rpm)  (Bypass Ratio)   (Bleed Enthalpy)  \\\n",
      "0                       8138.62           8.4195               392   \n",
      "1                       8131.49           8.4318               392   \n",
      "2                       8133.23           8.4178               390   \n",
      "3                       8133.83           8.3682               392   \n",
      "4                       8133.80           8.4294               393   \n",
      "\n",
      "   (High-pressure turbines Cool air flow)  \\\n",
      "0                                   39.06   \n",
      "1                                   39.00   \n",
      "2                                   38.95   \n",
      "3                                   38.88   \n",
      "4                                   38.90   \n",
      "\n",
      "   (Low-pressure turbines Cool air flow)  RUL  \n",
      "0                                23.4190  125  \n",
      "1                                23.4236  125  \n",
      "2                                23.3442  125  \n",
      "3                                23.3739  125  \n",
      "4                                23.4044  125  \n",
      "\n",
      "Test head (last cycle of each engine):\n",
      "     engine  cycle  setting_1  setting_2  (LPC outlet temperature) (◦R)  \\\n",
      "30        1     31    -0.0006     0.0004                         642.58   \n",
      "79        2     49     0.0018    -0.0001                         642.55   \n",
      "205       3    126    -0.0016     0.0004                         642.88   \n",
      "311       4    106     0.0012     0.0004                         642.78   \n",
      "409       5     98    -0.0013    -0.0004                         642.27   \n",
      "\n",
      "     (HPC outlet temperature) (◦R)  (LPT outlet temperature) (◦R)  \\\n",
      "30                         1581.22                        1398.91   \n",
      "79                         1586.59                        1410.83   \n",
      "205                        1589.75                        1418.89   \n",
      "311                        1594.53                        1406.88   \n",
      "409                        1589.94                        1419.36   \n",
      "\n",
      "     (bypass-duct pressure) (psia)  (HPC outlet pressure) (psia)  \\\n",
      "30                           21.61                        554.42   \n",
      "79                           21.61                        553.52   \n",
      "205                          21.61                        552.59   \n",
      "311                          21.61                        552.64   \n",
      "409                          21.61                        553.29   \n",
      "\n",
      "     (Physical fan speed) (rpm)  (Physical core speed) (rpm)  \\\n",
      "30                      2388.08                      9056.40   \n",
      "79                      2388.10                      9044.77   \n",
      "205                     2388.16                      9049.26   \n",
      "311                     2388.13                      9051.30   \n",
      "409                     2388.10                      9053.99   \n",
      "\n",
      "     (HPC outlet Static pressure) (psia)  \\\n",
      "30                                 47.23   \n",
      "79                                 47.67   \n",
      "205                                47.88   \n",
      "311                                47.65   \n",
      "409                                47.46   \n",
      "\n",
      "     (Ratio of fuel flow to Ps30) (pps/psia)  (Corrected fan speed) (rpm)  \\\n",
      "30                                    521.79                      2388.06   \n",
      "79                                    521.74                      2388.09   \n",
      "205                                   520.83                      2388.14   \n",
      "311                                   521.88                      2388.11   \n",
      "409                                   521.00                      2388.15   \n",
      "\n",
      "     (Corrected core speed) (rpm)  (Bypass Ratio)   (Bleed Enthalpy)  \\\n",
      "30                        8130.11           8.4024               393   \n",
      "79                        8126.90           8.4505               391   \n",
      "205                       8131.46           8.4119               395   \n",
      "311                       8133.64           8.4634               395   \n",
      "409                       8125.74           8.4362               394   \n",
      "\n",
      "     (High-pressure turbines Cool air flow)  \\\n",
      "30                                    38.81   \n",
      "79                                    38.81   \n",
      "205                                   38.93   \n",
      "311                                   38.58   \n",
      "409                                   38.75   \n",
      "\n",
      "     (Low-pressure turbines Cool air flow)  \n",
      "30                                 23.3552  \n",
      "79                                 23.2618  \n",
      "205                                23.2740  \n",
      "311                                23.2581  \n",
      "409                                23.4117  \n"
     ]
    }
   ],
   "source": [
    "# quick sanity prints\n",
    "print('\\nTrain head:')\n",
    "print(df_train.head())\n",
    "print('\\nTest head (last cycle of each engine):')\n",
    "print(df_test_max.head())"
   ]
  }
 ],
 "metadata": {
  "kaggle": {
   "accelerator": "none",
   "dataSources": [
    {
     "datasetId": 276801,
     "sourceId": 572434,
     "sourceType": "datasetVersion"
    }
   ],
   "dockerImageVersionId": 31089,
   "isGpuEnabled": false,
   "isInternetEnabled": true,
   "language": "python",
   "sourceType": "notebook"
  },
  "kernelspec": {
   "display_name": "Python 3",
   "language": "python",
   "name": "python3"
  },
  "language_info": {
   "codemirror_mode": {
    "name": "ipython",
    "version": 3
   },
   "file_extension": ".py",
   "mimetype": "text/x-python",
   "name": "python",
   "nbconvert_exporter": "python",
   "pygments_lexer": "ipython3",
   "version": "3.11.13"
  }
 },
 "nbformat": 4,
 "nbformat_minor": 4
}
